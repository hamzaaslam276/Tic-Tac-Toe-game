{
 "cells": [
  {
   "cell_type": "markdown",
   "id": "d96fd10c-64ac-4b62-8b9a-b6040418ae50",
   "metadata": {},
   "source": [
    "### Develop a two-player, text-based Tic-Tac-Toe game. The program should display the board after each move and declare the winner when one player achieves three in a row."
   ]
  },
  {
   "cell_type": "code",
   "execution_count": 1,
   "id": "acd10bd5-d9c4-477e-bad4-2217ea47023d",
   "metadata": {},
   "outputs": [
    {
     "name": "stdout",
     "output_type": "stream",
     "text": [
      "\n",
      "\n",
      "  |   |  \n",
      "---------\n",
      "  |   |  \n",
      "---------\n",
      "  |   |  \n",
      "\n",
      "\n",
      "Player X's turn.\n"
     ]
    },
    {
     "name": "stdin",
     "output_type": "stream",
     "text": [
      "Enter position (1-9):  2\n"
     ]
    },
    {
     "name": "stdout",
     "output_type": "stream",
     "text": [
      "\n",
      "\n",
      "  | X |  \n",
      "---------\n",
      "  |   |  \n",
      "---------\n",
      "  |   |  \n",
      "\n",
      "\n",
      "Player O's turn.\n"
     ]
    },
    {
     "name": "stdin",
     "output_type": "stream",
     "text": [
      "Enter position (1-9):  2\n"
     ]
    },
    {
     "name": "stdout",
     "output_type": "stream",
     "text": [
      "Invalid position! Please choose an empty spot from 1 to 9.\n",
      "\n",
      "\n",
      "  | X |  \n",
      "---------\n",
      "  |   |  \n",
      "---------\n",
      "  |   |  \n",
      "\n",
      "\n",
      "Player O's turn.\n"
     ]
    },
    {
     "name": "stdin",
     "output_type": "stream",
     "text": [
      "Enter position (1-9):  2\n"
     ]
    },
    {
     "name": "stdout",
     "output_type": "stream",
     "text": [
      "Invalid position! Please choose an empty spot from 1 to 9.\n",
      "\n",
      "\n",
      "  | X |  \n",
      "---------\n",
      "  |   |  \n",
      "---------\n",
      "  |   |  \n",
      "\n",
      "\n",
      "Player O's turn.\n"
     ]
    },
    {
     "name": "stdin",
     "output_type": "stream",
     "text": [
      "Enter position (1-9):  1\n"
     ]
    },
    {
     "name": "stdout",
     "output_type": "stream",
     "text": [
      "\n",
      "\n",
      "O | X |  \n",
      "---------\n",
      "  |   |  \n",
      "---------\n",
      "  |   |  \n",
      "\n",
      "\n",
      "Player X's turn.\n"
     ]
    },
    {
     "name": "stdin",
     "output_type": "stream",
     "text": [
      "Enter position (1-9):  3\n"
     ]
    },
    {
     "name": "stdout",
     "output_type": "stream",
     "text": [
      "\n",
      "\n",
      "O | X | X\n",
      "---------\n",
      "  |   |  \n",
      "---------\n",
      "  |   |  \n",
      "\n",
      "\n",
      "Player O's turn.\n"
     ]
    },
    {
     "name": "stdin",
     "output_type": "stream",
     "text": [
      "Enter position (1-9):  5\n"
     ]
    },
    {
     "name": "stdout",
     "output_type": "stream",
     "text": [
      "\n",
      "\n",
      "O | X | X\n",
      "---------\n",
      "  | O |  \n",
      "---------\n",
      "  |   |  \n",
      "\n",
      "\n",
      "Player X's turn.\n"
     ]
    },
    {
     "name": "stdin",
     "output_type": "stream",
     "text": [
      "Enter position (1-9):  6\n"
     ]
    },
    {
     "name": "stdout",
     "output_type": "stream",
     "text": [
      "\n",
      "\n",
      "O | X | X\n",
      "---------\n",
      "  | O | X\n",
      "---------\n",
      "  |   |  \n",
      "\n",
      "\n",
      "Player O's turn.\n"
     ]
    },
    {
     "name": "stdin",
     "output_type": "stream",
     "text": [
      "Enter position (1-9):  7\n"
     ]
    },
    {
     "name": "stdout",
     "output_type": "stream",
     "text": [
      "\n",
      "\n",
      "O | X | X\n",
      "---------\n",
      "  | O | X\n",
      "---------\n",
      "O |   |  \n",
      "\n",
      "\n",
      "Player X's turn.\n"
     ]
    },
    {
     "name": "stdin",
     "output_type": "stream",
     "text": [
      "Enter position (1-9):  8\n"
     ]
    },
    {
     "name": "stdout",
     "output_type": "stream",
     "text": [
      "\n",
      "\n",
      "O | X | X\n",
      "---------\n",
      "  | O | X\n",
      "---------\n",
      "O | X |  \n",
      "\n",
      "\n",
      "Player O's turn.\n"
     ]
    },
    {
     "name": "stdin",
     "output_type": "stream",
     "text": [
      "Enter position (1-9):  9\n"
     ]
    },
    {
     "name": "stdout",
     "output_type": "stream",
     "text": [
      "\n",
      "\n",
      "O | X | X\n",
      "---------\n",
      "  | O | X\n",
      "---------\n",
      "O | X | O\n",
      "\n",
      "\n",
      "Player O wins!\n"
     ]
    }
   ],
   "source": [
    "board = [' ' for _ in range(9)]\n",
    "\n",
    "def display_board():\n",
    "    print(\"\\n\")\n",
    "    for i in range(3):\n",
    "        print(\" | \".join(board[i*3:(i+1)*3]))\n",
    "        if i < 2:\n",
    "            print(\"---------\")\n",
    "    print(\"\\n\")\n",
    "\n",
    "def check_winner(player):\n",
    "    win_conditions = [\n",
    "        [0, 1, 2], [3, 4, 5], [6, 7, 8],  \n",
    "        [0, 3, 6], [1, 4, 7], [2, 5, 8],  \n",
    "        [0, 4, 8], [2, 4, 6]              \n",
    "    ]\n",
    "   \n",
    "    return any(all(board[pos] == player for pos in combo) for combo in win_conditions)\n",
    "\n",
    "def is_board_full():\n",
    "    return ' ' not in board\n",
    "\n",
    "def play_game():\n",
    "    current_player = 'X' \n",
    "    \n",
    "    while True:\n",
    "        display_board()\n",
    "        print(f\"Player {current_player}'s turn.\")\n",
    "\n",
    "        try:\n",
    "            position = int(input(\"Enter position (1-9): \")) - 1\n",
    "        except ValueError:\n",
    "            print(\"Invalid input! Please enter a number between 1 and 9.\")\n",
    "            continue\n",
    "\n",
    "        if position < 0 or position >= 9 or board[position] != ' ':\n",
    "            print(\"Invalid position! Please choose an empty spot from 1 to 9.\")\n",
    "            continue\n",
    "\n",
    "        board[position] = current_player\n",
    "\n",
    "        if check_winner(current_player):\n",
    "            display_board()\n",
    "            print(f\"Player {current_player} wins!\")\n",
    "            break\n",
    "\n",
    "        if is_board_full():\n",
    "            display_board()\n",
    "            print(\"It's a tie!\")\n",
    "            break\n",
    "\n",
    "        current_player = 'O' if current_player == 'X' else 'X'\n",
    "\n",
    "play_game()\n"
   ]
  },
  {
   "cell_type": "code",
   "execution_count": null,
   "id": "26fba6a8-7335-4215-b810-ec623fe1a652",
   "metadata": {},
   "outputs": [],
   "source": []
  }
 ],
 "metadata": {
  "kernelspec": {
   "display_name": "Python 3 (ipykernel)",
   "language": "python",
   "name": "python3"
  },
  "language_info": {
   "codemirror_mode": {
    "name": "ipython",
    "version": 3
   },
   "file_extension": ".py",
   "mimetype": "text/x-python",
   "name": "python",
   "nbconvert_exporter": "python",
   "pygments_lexer": "ipython3",
   "version": "3.11.7"
  },
  "widgets": {
   "application/vnd.jupyter.widget-state+json": {
    "state": {},
    "version_major": 2,
    "version_minor": 0
   }
  }
 },
 "nbformat": 4,
 "nbformat_minor": 5
}
